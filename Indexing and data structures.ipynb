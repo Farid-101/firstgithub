{
 "cells": [
  {
   "cell_type": "markdown",
   "id": "5d8e5925",
   "metadata": {},
   "source": [
    "#-Indexing"
   ]
  },
  {
   "cell_type": "code",
   "execution_count": 2,
   "id": "b41a3841",
   "metadata": {},
   "outputs": [
    {
     "data": {
      "text/plain": [
       "'samosa pakora'"
      ]
     },
     "execution_count": 2,
     "metadata": {},
     "output_type": "execute_result"
    }
   ],
   "source": [
    "#make a string\n",
    "a=\"samosa pakora\"\n",
    "a"
   ]
  },
  {
   "cell_type": "code",
   "execution_count": 3,
   "id": "88d46b40",
   "metadata": {},
   "outputs": [
    {
     "data": {
      "text/plain": [
       "'s'"
      ]
     },
     "execution_count": 3,
     "metadata": {},
     "output_type": "execute_result"
    }
   ],
   "source": [
    "a[0]"
   ]
  },
  {
   "cell_type": "code",
   "execution_count": 4,
   "id": "4a38fc60",
   "metadata": {},
   "outputs": [
    {
     "data": {
      "text/plain": [
       "'o'"
      ]
     },
     "execution_count": 4,
     "metadata": {},
     "output_type": "execute_result"
    }
   ],
   "source": [
    "a[3]"
   ]
  },
  {
   "cell_type": "code",
   "execution_count": 5,
   "id": "a068d646",
   "metadata": {},
   "outputs": [
    {
     "data": {
      "text/plain": [
       "'samosa pakora'"
      ]
     },
     "execution_count": 5,
     "metadata": {},
     "output_type": "execute_result"
    }
   ],
   "source": [
    "a"
   ]
  },
  {
   "cell_type": "code",
   "execution_count": 7,
   "id": "bf7c8565",
   "metadata": {},
   "outputs": [
    {
     "data": {
      "text/plain": [
       "'a'"
      ]
     },
     "execution_count": 7,
     "metadata": {},
     "output_type": "execute_result"
    }
   ],
   "source": [
    "a[1]\n",
    "a[5]\n"
   ]
  },
  {
   "cell_type": "code",
   "execution_count": 8,
   "id": "c45a8f71",
   "metadata": {},
   "outputs": [
    {
     "data": {
      "text/plain": [
       "13"
      ]
     },
     "execution_count": 8,
     "metadata": {},
     "output_type": "execute_result"
    }
   ],
   "source": [
    "#length\n",
    "len(a)"
   ]
  },
  {
   "cell_type": "code",
   "execution_count": 9,
   "id": "7081ba9a",
   "metadata": {},
   "outputs": [
    {
     "data": {
      "text/plain": [
       "'samos'"
      ]
     },
     "execution_count": 9,
     "metadata": {},
     "output_type": "execute_result"
    }
   ],
   "source": [
    "a[0:5]"
   ]
  },
  {
   "cell_type": "code",
   "execution_count": 10,
   "id": "78b4d611",
   "metadata": {},
   "outputs": [
    {
     "data": {
      "text/plain": [
       "'samosa'"
      ]
     },
     "execution_count": 10,
     "metadata": {},
     "output_type": "execute_result"
    }
   ],
   "source": [
    "a[0:6]"
   ]
  },
  {
   "cell_type": "code",
   "execution_count": 11,
   "id": "36e97a9c",
   "metadata": {},
   "outputs": [
    {
     "data": {
      "text/plain": [
       "'a'"
      ]
     },
     "execution_count": 11,
     "metadata": {},
     "output_type": "execute_result"
    }
   ],
   "source": [
    "a[-1]"
   ]
  },
  {
   "cell_type": "code",
   "execution_count": 12,
   "id": "5164f9f8",
   "metadata": {},
   "outputs": [
    {
     "data": {
      "text/plain": [
       "'p'"
      ]
     },
     "execution_count": 12,
     "metadata": {},
     "output_type": "execute_result"
    }
   ],
   "source": [
    "a[-6]"
   ]
  },
  {
   "cell_type": "code",
   "execution_count": 17,
   "id": "1d617481",
   "metadata": {},
   "outputs": [
    {
     "data": {
      "text/plain": [
       "' '"
      ]
     },
     "execution_count": 17,
     "metadata": {},
     "output_type": "execute_result"
    }
   ],
   "source": [
    "a[6]"
   ]
  },
  {
   "cell_type": "code",
   "execution_count": 18,
   "id": "ab517fad",
   "metadata": {},
   "outputs": [
    {
     "data": {
      "text/plain": [
       "'o'"
      ]
     },
     "execution_count": 18,
     "metadata": {},
     "output_type": "execute_result"
    }
   ],
   "source": [
    "a[-3]"
   ]
  },
  {
   "cell_type": "code",
   "execution_count": 19,
   "id": "ba02b4fb",
   "metadata": {},
   "outputs": [
    {
     "data": {
      "text/plain": [
       "'o'"
      ]
     },
     "execution_count": 19,
     "metadata": {},
     "output_type": "execute_result"
    }
   ],
   "source": [
    "a[3]"
   ]
  },
  {
   "cell_type": "code",
   "execution_count": 20,
   "id": "c5a11ca7",
   "metadata": {},
   "outputs": [
    {
     "data": {
      "text/plain": [
       "''"
      ]
     },
     "execution_count": 20,
     "metadata": {},
     "output_type": "execute_result"
    }
   ],
   "source": [
    "a[-6:-12]"
   ]
  },
  {
   "cell_type": "code",
   "execution_count": 21,
   "id": "b498b6e1",
   "metadata": {},
   "outputs": [
    {
     "data": {
      "text/plain": [
       "'amosa '"
      ]
     },
     "execution_count": 21,
     "metadata": {},
     "output_type": "execute_result"
    }
   ],
   "source": [
    "a[-12:-6]"
   ]
  },
  {
   "cell_type": "code",
   "execution_count": 22,
   "id": "b4891869",
   "metadata": {},
   "outputs": [
    {
     "data": {
      "text/plain": [
       "'pakor'"
      ]
     },
     "execution_count": 22,
     "metadata": {},
     "output_type": "execute_result"
    }
   ],
   "source": [
    "a[-6:-1]"
   ]
  },
  {
   "cell_type": "code",
   "execution_count": 23,
   "id": "a30cd306",
   "metadata": {},
   "outputs": [
    {
     "data": {
      "text/plain": [
       "''"
      ]
     },
     "execution_count": 23,
     "metadata": {},
     "output_type": "execute_result"
    }
   ],
   "source": [
    "a[-6:0]"
   ]
  },
  {
   "cell_type": "code",
   "execution_count": 24,
   "id": "23fe974b",
   "metadata": {},
   "outputs": [
    {
     "data": {
      "text/plain": [
       "'pakora'"
      ]
     },
     "execution_count": 24,
     "metadata": {},
     "output_type": "execute_result"
    }
   ],
   "source": [
    "a[-6:13]"
   ]
  },
  {
   "cell_type": "code",
   "execution_count": 25,
   "id": "8857c34a",
   "metadata": {},
   "outputs": [
    {
     "data": {
      "text/plain": [
       "'Biryani'"
      ]
     },
     "execution_count": 25,
     "metadata": {},
     "output_type": "execute_result"
    }
   ],
   "source": [
    "food=\"Biryani\"\n",
    "food"
   ]
  },
  {
   "cell_type": "code",
   "execution_count": null,
   "id": "049abcb7",
   "metadata": {},
   "outputs": [],
   "source": [
    "#strings methods"
   ]
  },
  {
   "cell_type": "code",
   "execution_count": 26,
   "id": "8bdde8e2",
   "metadata": {},
   "outputs": [
    {
     "data": {
      "text/plain": [
       "'Biryani'"
      ]
     },
     "execution_count": 26,
     "metadata": {},
     "output_type": "execute_result"
    }
   ],
   "source": [
    "food"
   ]
  },
  {
   "cell_type": "code",
   "execution_count": 27,
   "id": "21b4796e",
   "metadata": {},
   "outputs": [
    {
     "data": {
      "text/plain": [
       "7"
      ]
     },
     "execution_count": 27,
     "metadata": {},
     "output_type": "execute_result"
    }
   ],
   "source": [
    "len(food)"
   ]
  },
  {
   "cell_type": "code",
   "execution_count": 28,
   "id": "1ead2649",
   "metadata": {},
   "outputs": [
    {
     "data": {
      "text/plain": [
       "'Biryani'"
      ]
     },
     "execution_count": 28,
     "metadata": {},
     "output_type": "execute_result"
    }
   ],
   "source": [
    "#capitalize\n",
    "food.capitalize()"
   ]
  },
  {
   "cell_type": "code",
   "execution_count": 29,
   "id": "d3da11a6",
   "metadata": {},
   "outputs": [
    {
     "data": {
      "text/plain": [
       "'biryani'"
      ]
     },
     "execution_count": 29,
     "metadata": {},
     "output_type": "execute_result"
    }
   ],
   "source": [
    "#lower letters\n",
    "food.lower()\n"
   ]
  },
  {
   "cell_type": "code",
   "execution_count": 31,
   "id": "7fb91d46",
   "metadata": {},
   "outputs": [
    {
     "data": {
      "text/plain": [
       "'BIRYANI'"
      ]
     },
     "execution_count": 31,
     "metadata": {},
     "output_type": "execute_result"
    }
   ],
   "source": [
    "#upper letters\n",
    "food.upper()"
   ]
  },
  {
   "cell_type": "code",
   "execution_count": 39,
   "id": "dcb2c9ce",
   "metadata": {},
   "outputs": [
    {
     "data": {
      "text/plain": [
       "'Biryani'"
      ]
     },
     "execution_count": 39,
     "metadata": {},
     "output_type": "execute_result"
    }
   ],
   "source": [
    "food.replace(\"b\", \"t\")"
   ]
  },
  {
   "cell_type": "code",
   "execution_count": 46,
   "id": "1f76449a",
   "metadata": {},
   "outputs": [
    {
     "data": {
      "text/plain": [
       "'shiryani'"
      ]
     },
     "execution_count": 46,
     "metadata": {},
     "output_type": "execute_result"
    }
   ],
   "source": [
    " #watchout letters case\n",
    "food.replace(\"B\", \"sh\" )"
   ]
  },
  {
   "cell_type": "code",
   "execution_count": 48,
   "id": "a0d25312",
   "metadata": {},
   "outputs": [
    {
     "data": {
      "text/plain": [
       "'farid_gandapur'"
      ]
     },
     "execution_count": 48,
     "metadata": {},
     "output_type": "execute_result"
    }
   ],
   "source": [
    "#counting a specific alphabet in a string\n",
    "name= \"farid_gandapur\"\n",
    "name"
   ]
  },
  {
   "cell_type": "code",
   "execution_count": 51,
   "id": "d08722c8",
   "metadata": {},
   "outputs": [
    {
     "data": {
      "text/plain": [
       "2"
      ]
     },
     "execution_count": 51,
     "metadata": {},
     "output_type": "execute_result"
    }
   ],
   "source": [
    "name.count(\"d\")"
   ]
  },
  {
   "cell_type": "markdown",
   "id": "ecde22ca",
   "metadata": {},
   "source": [
    "###-finding an index number in string"
   ]
  },
  {
   "cell_type": "code",
   "execution_count": 53,
   "id": "db3615ca",
   "metadata": {},
   "outputs": [
    {
     "data": {
      "text/plain": [
       "'farid_gandapur'"
      ]
     },
     "execution_count": 53,
     "metadata": {},
     "output_type": "execute_result"
    }
   ],
   "source": [
    "name= \"farid_gandapur\"\n",
    "name"
   ]
  },
  {
   "cell_type": "code",
   "execution_count": 54,
   "id": "af403856",
   "metadata": {},
   "outputs": [
    {
     "data": {
      "text/plain": [
       "6"
      ]
     },
     "execution_count": 54,
     "metadata": {},
     "output_type": "execute_result"
    }
   ],
   "source": [
    "name.find('g')"
   ]
  },
  {
   "cell_type": "code",
   "execution_count": 56,
   "id": "ebc19018",
   "metadata": {},
   "outputs": [
    {
     "data": {
      "text/plain": [
       "'I love chatni, biryani karai  and raita'"
      ]
     },
     "execution_count": 56,
     "metadata": {},
     "output_type": "execute_result"
    }
   ],
   "source": [
    "###- how to split a string\n",
    "food= \"I love chatni, biryani karai  and raita\"\n",
    "food\n"
   ]
  },
  {
   "cell_type": "code",
   "execution_count": 57,
   "id": "34843b14",
   "metadata": {},
   "outputs": [
    {
     "data": {
      "text/plain": [
       "['I love chatni', ' biryani karai  and raita']"
      ]
     },
     "execution_count": 57,
     "metadata": {},
     "output_type": "execute_result"
    }
   ],
   "source": [
    "food.split(\",\")"
   ]
  },
  {
   "cell_type": "code",
   "execution_count": 58,
   "id": "cd297024",
   "metadata": {},
   "outputs": [
    {
     "data": {
      "text/plain": [
       "['I love chatn', ', b', 'ryan', ' kara', '  and ra', 'ta']"
      ]
     },
     "execution_count": 58,
     "metadata": {},
     "output_type": "execute_result"
    }
   ],
   "source": [
    "food.split(\"i\")"
   ]
  },
  {
   "cell_type": "markdown",
   "id": "8d2e41d2",
   "metadata": {},
   "source": [
    "# Basic data structure in Python\n",
    "## 1- Tuple\n",
    "## 2- List\n",
    "## 3- Dictionaries\n",
    "## 4- Set"
   ]
  },
  {
   "cell_type": "markdown",
   "id": "784a9839",
   "metadata": {},
   "source": [
    "## Tuple\n",
    "-ordered collection of elements\n",
    "- Enclosed in () braces\n",
    "- Different kinds of elecments can be stored\n",
    "- Once elements are stred , cannot be cahnged later"
   ]
  },
  {
   "cell_type": "code",
   "execution_count": 13,
   "id": "e4ff117a",
   "metadata": {},
   "outputs": [
    {
     "data": {
      "text/plain": [
       "tuple"
      ]
     },
     "execution_count": 13,
     "metadata": {},
     "output_type": "execute_result"
    }
   ],
   "source": [
    "tup1=(\"farid\", 7, 7.5)\n",
    "type(tup1)"
   ]
  },
  {
   "cell_type": "code",
   "execution_count": 14,
   "id": "f01b9dd9",
   "metadata": {},
   "outputs": [
    {
     "data": {
      "text/plain": [
       "('farid', 7, 7.5)"
      ]
     },
     "execution_count": 14,
     "metadata": {},
     "output_type": "execute_result"
    }
   ],
   "source": [
    "tup1[0:4]  #last element is exclusive"
   ]
  },
  {
   "cell_type": "code",
   "execution_count": 15,
   "id": "b18efebc",
   "metadata": {},
   "outputs": [
    {
     "data": {
      "text/plain": [
       "3"
      ]
     },
     "execution_count": 15,
     "metadata": {},
     "output_type": "execute_result"
    }
   ],
   "source": [
    "len(tup1)"
   ]
  },
  {
   "cell_type": "code",
   "execution_count": 19,
   "id": "13bcfc20",
   "metadata": {},
   "outputs": [
    {
     "data": {
      "text/plain": [
       "(1.4, 'green')"
      ]
     },
     "execution_count": 19,
     "metadata": {},
     "output_type": "execute_result"
    }
   ],
   "source": [
    "tup2=(1.4, \"green\")\n",
    "tup2"
   ]
  },
  {
   "cell_type": "code",
   "execution_count": 21,
   "id": "7dace89a",
   "metadata": {},
   "outputs": [
    {
     "data": {
      "text/plain": [
       "('farid', 7, 7.5, 1.4, 'green')"
      ]
     },
     "execution_count": 21,
     "metadata": {},
     "output_type": "execute_result"
    }
   ],
   "source": [
    "tup3=tup1+tup2  #concatenation\n",
    "tup3"
   ]
  },
  {
   "cell_type": "code",
   "execution_count": 22,
   "id": "3d780016",
   "metadata": {},
   "outputs": [
    {
     "data": {
      "text/plain": [
       "('farid', 7, 7.5, 'farid', 7, 7.5, 'farid', 7, 7.5)"
      ]
     },
     "execution_count": 22,
     "metadata": {},
     "output_type": "execute_result"
    }
   ],
   "source": [
    "tup1*3\n"
   ]
  },
  {
   "cell_type": "code",
   "execution_count": 34,
   "id": "19b43626",
   "metadata": {},
   "outputs": [
    {
     "data": {
      "text/plain": [
       "33"
      ]
     },
     "execution_count": 34,
     "metadata": {},
     "output_type": "execute_result"
    }
   ],
   "source": [
    "tup4=(55 , 60, 55, 110 ,33 )\n",
    "a=min(tup4)\n",
    "a\n"
   ]
  },
  {
   "cell_type": "code",
   "execution_count": 43,
   "id": "043c0ae8",
   "metadata": {},
   "outputs": [
    {
     "name": "stdout",
     "output_type": "stream",
     "text": [
      "(55, 60, 55, 110, 33, 'farid', 7, 7.5)\n"
     ]
    }
   ],
   "source": [
    "print(tup4+tup1)"
   ]
  },
  {
   "cell_type": "markdown",
   "id": "ded9fec3",
   "metadata": {},
   "source": [
    "## Lists\n",
    "1- Order collection of elements\n",
    "2- Enclosed in square brackets\n",
    "3- Mutable elements"
   ]
  },
  {
   "cell_type": "code",
   "execution_count": 49,
   "id": "e40665bf",
   "metadata": {},
   "outputs": [
    {
     "data": {
      "text/plain": [
       "list"
      ]
     },
     "execution_count": 49,
     "metadata": {},
     "output_type": "execute_result"
    }
   ],
   "source": [
    "list1=[1,2,'farid']\n",
    "list1\n",
    "type(list1)"
   ]
  },
  {
   "cell_type": "code",
   "execution_count": 51,
   "id": "32d36aa5",
   "metadata": {},
   "outputs": [],
   "source": [
    "list2=[3,5,'gandapur']"
   ]
  },
  {
   "cell_type": "code",
   "execution_count": 54,
   "id": "2ba1d291",
   "metadata": {},
   "outputs": [
    {
     "data": {
      "text/plain": [
       "[1, 2, 'farid']"
      ]
     },
     "execution_count": 54,
     "metadata": {},
     "output_type": "execute_result"
    }
   ],
   "source": [
    "list1[0:3]"
   ]
  },
  {
   "cell_type": "code",
   "execution_count": 55,
   "id": "6d39a493",
   "metadata": {},
   "outputs": [
    {
     "data": {
      "text/plain": [
       "3"
      ]
     },
     "execution_count": 55,
     "metadata": {},
     "output_type": "execute_result"
    }
   ],
   "source": [
    "len(list1)"
   ]
  },
  {
   "cell_type": "code",
   "execution_count": 56,
   "id": "4e6390c8",
   "metadata": {},
   "outputs": [
    {
     "data": {
      "text/plain": [
       "[1, 2, 'farid', 3, 5, 'gandapur']"
      ]
     },
     "execution_count": 56,
     "metadata": {},
     "output_type": "execute_result"
    }
   ],
   "source": [
    "list1+list2"
   ]
  },
  {
   "cell_type": "code",
   "execution_count": 60,
   "id": "54f4fa5d",
   "metadata": {},
   "outputs": [
    {
     "data": {
      "text/plain": [
       "[1, 2, 'farid', 1, 2, 'farid']"
      ]
     },
     "execution_count": 60,
     "metadata": {},
     "output_type": "execute_result"
    }
   ],
   "source": [
    "list1*2"
   ]
  },
  {
   "cell_type": "code",
   "execution_count": 66,
   "id": "3ac205a9",
   "metadata": {},
   "outputs": [
    {
     "data": {
      "text/plain": [
       "[1, 2, 'farid']"
      ]
     },
     "execution_count": 66,
     "metadata": {},
     "output_type": "execute_result"
    }
   ],
   "source": [
    "list1.reverse()\n",
    "list1"
   ]
  },
  {
   "cell_type": "code",
   "execution_count": 84,
   "id": "d78fc399",
   "metadata": {},
   "outputs": [
    {
     "data": {
      "text/plain": [
       "['farid', 4, 2]"
      ]
     },
     "execution_count": 84,
     "metadata": {},
     "output_type": "execute_result"
    }
   ],
   "source": [
    "list1.append(2)\n",
    "list1"
   ]
  },
  {
   "cell_type": "code",
   "execution_count": 88,
   "id": "1cb97f01",
   "metadata": {},
   "outputs": [
    {
     "data": {
      "text/plain": [
       "['farid', 4, 2, 3, 5, 'gandapur']"
      ]
     },
     "execution_count": 88,
     "metadata": {},
     "output_type": "execute_result"
    }
   ],
   "source": [
    "list1+list2"
   ]
  },
  {
   "cell_type": "markdown",
   "id": "75a16874",
   "metadata": {},
   "source": [
    "#sorting a list"
   ]
  },
  {
   "cell_type": "code",
   "execution_count": 91,
   "id": "17b61019",
   "metadata": {},
   "outputs": [
    {
     "data": {
      "text/plain": [
       "[3, 5, 66, 88, 33, 2, 7, 99, 111, 5]"
      ]
     },
     "execution_count": 91,
     "metadata": {},
     "output_type": "execute_result"
    }
   ],
   "source": [
    "list4=[3,5,66,88,33,2,7,99,111,5]\n",
    "list4"
   ]
  },
  {
   "cell_type": "code",
   "execution_count": 93,
   "id": "217e4702",
   "metadata": {
    "scrolled": true
   },
   "outputs": [
    {
     "data": {
      "text/plain": [
       "[2, 3, 5, 5, 7, 33, 66, 88, 99, 111]"
      ]
     },
     "execution_count": 93,
     "metadata": {},
     "output_type": "execute_result"
    }
   ],
   "source": [
    "list4.sort()\n",
    "list4"
   ]
  },
  {
   "cell_type": "markdown",
   "id": "7acd2c1a",
   "metadata": {},
   "source": [
    "## Dictionaries\n",
    "1- an unordered collection of elements\n",
    "- key and values\n",
    "- curly braces \n",
    "- mutable"
   ]
  },
  {
   "cell_type": "code",
   "execution_count": 98,
   "id": "c6d5e2ab",
   "metadata": {},
   "outputs": [
    {
     "data": {
      "text/plain": [
       "{'samosa': 30, 'pakora': 100, 'raita': 20, 'salad': 50, 'chicken rolls': 30}"
      ]
     },
     "execution_count": 98,
     "metadata": {},
     "output_type": "execute_result"
    }
   ],
   "source": [
    "#food and their prices, samosa is key and 30 is value\n",
    "food1={\"samosa\":30, \"pakora\":100, \"raita\":20, \"salad\":50, \"chicken rolls\":30}\n",
    "food1"
   ]
  },
  {
   "cell_type": "code",
   "execution_count": 99,
   "id": "befd9f7e",
   "metadata": {},
   "outputs": [
    {
     "data": {
      "text/plain": [
       "dict"
      ]
     },
     "execution_count": 99,
     "metadata": {},
     "output_type": "execute_result"
    }
   ],
   "source": [
    "type(food1)"
   ]
  },
  {
   "cell_type": "code",
   "execution_count": 107,
   "id": "cdf5a4c3",
   "metadata": {},
   "outputs": [
    {
     "data": {
      "text/plain": [
       "dict_keys(['samosa', 'pakora', 'raita', 'salad', 'chicken rolls'])"
      ]
     },
     "execution_count": 107,
     "metadata": {},
     "output_type": "execute_result"
    }
   ],
   "source": [
    "#extract data\n",
    "keys1=food1.keys()\n",
    "keys1"
   ]
  },
  {
   "cell_type": "code",
   "execution_count": 108,
   "id": "2ca7090b",
   "metadata": {},
   "outputs": [
    {
     "data": {
      "text/plain": [
       "dict_values([30, 100, 20, 50, 30])"
      ]
     },
     "execution_count": 108,
     "metadata": {},
     "output_type": "execute_result"
    }
   ],
   "source": [
    "values1=food1.values()\n",
    "values1"
   ]
  },
  {
   "cell_type": "code",
   "execution_count": 113,
   "id": "5a8f87e7",
   "metadata": {},
   "outputs": [
    {
     "data": {
      "text/plain": [
       "{'samosa': 30,\n",
       " 'pakora': 100,\n",
       " 'raita': 20,\n",
       " 'salad': 50,\n",
       " 'chicken rolls': 30,\n",
       " 'tikki': 50}"
      ]
     },
     "execution_count": 113,
     "metadata": {},
     "output_type": "execute_result"
    }
   ],
   "source": [
    "food1['tikki']=50  #add elements\n",
    "food1\n"
   ]
  },
  {
   "cell_type": "code",
   "execution_count": 114,
   "id": "fd99ff64",
   "metadata": {},
   "outputs": [
    {
     "data": {
      "text/plain": [
       "{'samosa': 30,\n",
       " 'pakora': 100,\n",
       " 'raita': 20,\n",
       " 'salad': 50,\n",
       " 'chicken rolls': 30,\n",
       " 'tikki': 14}"
      ]
     },
     "execution_count": 114,
     "metadata": {},
     "output_type": "execute_result"
    }
   ],
   "source": [
    "#update the values\n",
    "food1['tikki']=14\n",
    "food1"
   ]
  },
  {
   "cell_type": "code",
   "execution_count": 129,
   "id": "38abe524",
   "metadata": {},
   "outputs": [],
   "source": [
    "food2={'aalo':9, 'bengan':5, 'bhindi':7, 'tmatar':40}\n"
   ]
  },
  {
   "cell_type": "code",
   "execution_count": 130,
   "id": "d6063f3c",
   "metadata": {},
   "outputs": [],
   "source": [
    "food1.update(food2)"
   ]
  },
  {
   "cell_type": "code",
   "execution_count": 131,
   "id": "81f37422",
   "metadata": {},
   "outputs": [
    {
     "data": {
      "text/plain": [
       "{'samosa': 30,\n",
       " 'pakora': 100,\n",
       " 'raita': 20,\n",
       " 'salad': 50,\n",
       " 'chicken rolls': 30,\n",
       " 'tikki': 14,\n",
       " 'aalo': 9,\n",
       " 'bengan': 5,\n",
       " 'bhindi': 7,\n",
       " 'tmatar': 40}"
      ]
     },
     "execution_count": 131,
     "metadata": {},
     "output_type": "execute_result"
    }
   ],
   "source": [
    "food1"
   ]
  },
  {
   "cell_type": "markdown",
   "id": "854a48cb",
   "metadata": {},
   "source": [
    "# sets\n",
    "-unordered and unindexed  # so we cannot access elements using indexing, as it is unordered.\n",
    "-curly braces\n",
    "-no duplicate allowed"
   ]
  },
  {
   "cell_type": "code",
   "execution_count": 9,
   "id": "bd1e1aeb",
   "metadata": {},
   "outputs": [
    {
     "data": {
      "text/plain": [
       "{1, 2.3, 5.2, 'True', 'farid', 'gandapur', 'khan'}"
      ]
     },
     "execution_count": 9,
     "metadata": {},
     "output_type": "execute_result"
    }
   ],
   "source": [
    "s1={1,2.3,5.2,'farid','khan','True', 'gandapur'}\n",
    "s1"
   ]
  },
  {
   "cell_type": "code",
   "execution_count": 135,
   "id": "c17ddafd",
   "metadata": {},
   "outputs": [
    {
     "data": {
      "text/plain": [
       "{1, 2.3, 5.2, 'farid', 'gandapur', 'khan'}"
      ]
     },
     "execution_count": 135,
     "metadata": {},
     "output_type": "execute_result"
    }
   ],
   "source": [
    "s1.add('farid')\n",
    "s1"
   ]
  },
  {
   "cell_type": "code",
   "execution_count": 138,
   "id": "22f8dd73",
   "metadata": {},
   "outputs": [
    {
     "data": {
      "text/plain": [
       "{1, 2.3, 5.2, 'gandapur'}"
      ]
     },
     "execution_count": 138,
     "metadata": {},
     "output_type": "execute_result"
    }
   ],
   "source": [
    "s1.remove('khan')\n",
    "s1"
   ]
  },
  {
   "cell_type": "code",
   "execution_count": 147,
   "id": "8ad9e607",
   "metadata": {},
   "outputs": [
    {
     "data": {
      "text/plain": [
       "{1, 2.3, 5.2, 'gandapur', 'khan'}"
      ]
     },
     "execution_count": 147,
     "metadata": {},
     "output_type": "execute_result"
    }
   ],
   "source": [
    "s1.union()\n",
    "s1"
   ]
  }
 ],
 "metadata": {
  "kernelspec": {
   "display_name": "Python 3 (ipykernel)",
   "language": "python",
   "name": "python3"
  },
  "language_info": {
   "codemirror_mode": {
    "name": "ipython",
    "version": 3
   },
   "file_extension": ".py",
   "mimetype": "text/x-python",
   "name": "python",
   "nbconvert_exporter": "python",
   "pygments_lexer": "ipython3",
   "version": "3.9.7"
  }
 },
 "nbformat": 4,
 "nbformat_minor": 5
}
